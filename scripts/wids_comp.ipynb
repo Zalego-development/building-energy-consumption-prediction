{
  "cells": [
    {
      "cell_type": "code",
      "source": [
        "!pip install autogluon --user"
      ],
      "metadata": {
        "colab": {
          "base_uri": "https://localhost:8080/"
        },
        "id": "_Lxmo7qqRw05",
        "outputId": "5637a03d-b7eb-4aea-b9fc-d7c8a58e0c99"
      },
      "id": "_Lxmo7qqRw05",
      "execution_count": null,
      "outputs": [
        {
          "output_type": "stream",
          "name": "stdout",
          "text": [
            "Requirement already satisfied: autogluon in /root/.local/lib/python3.7/site-packages (0.3.1)\n",
            "Requirement already satisfied: autogluon.extra==0.3.1 in /root/.local/lib/python3.7/site-packages (from autogluon) (0.3.1)\n",
            "Requirement already satisfied: autogluon.core==0.3.1 in /root/.local/lib/python3.7/site-packages (from autogluon) (0.3.1)\n",
            "Requirement already satisfied: autogluon.tabular[all]==0.3.1 in /root/.local/lib/python3.7/site-packages (from autogluon) (0.3.1)\n",
            "Requirement already satisfied: autogluon.vision==0.3.1 in /root/.local/lib/python3.7/site-packages (from autogluon) (0.3.1)\n",
            "Requirement already satisfied: autogluon.text==0.3.1 in /root/.local/lib/python3.7/site-packages (from autogluon) (0.3.1)\n",
            "Requirement already satisfied: autogluon.mxnet==0.3.1 in /root/.local/lib/python3.7/site-packages (from autogluon) (0.3.1)\n",
            "Requirement already satisfied: autogluon.features==0.3.1 in /root/.local/lib/python3.7/site-packages (from autogluon) (0.3.1)\n",
            "Requirement already satisfied: tqdm>=4.38.0 in /usr/local/lib/python3.7/dist-packages (from autogluon.core==0.3.1->autogluon) (4.62.3)\n",
            "Requirement already satisfied: paramiko>=2.4 in /root/.local/lib/python3.7/site-packages (from autogluon.core==0.3.1->autogluon) (2.9.2)\n",
            "Requirement already satisfied: scikit-learn<0.25,>=0.23.2 in /root/.local/lib/python3.7/site-packages (from autogluon.core==0.3.1->autogluon) (0.24.2)\n",
            "Requirement already satisfied: ConfigSpace==0.4.19 in /root/.local/lib/python3.7/site-packages (from autogluon.core==0.3.1->autogluon) (0.4.19)\n",
            "Requirement already satisfied: cython in /usr/local/lib/python3.7/dist-packages (from autogluon.core==0.3.1->autogluon) (0.29.24)\n",
            "Requirement already satisfied: dask>=2.6.0 in /root/.local/lib/python3.7/site-packages (from autogluon.core==0.3.1->autogluon) (2021.12.0)\n",
            "Requirement already satisfied: graphviz<1.0,>=0.8.1 in /usr/local/lib/python3.7/dist-packages (from autogluon.core==0.3.1->autogluon) (0.10.1)\n",
            "Requirement already satisfied: tornado>=5.0.1 in /usr/local/lib/python3.7/dist-packages (from autogluon.core==0.3.1->autogluon) (5.1.1)\n",
            "Requirement already satisfied: scipy<1.7,>=1.5.4 in /root/.local/lib/python3.7/site-packages (from autogluon.core==0.3.1->autogluon) (1.6.3)\n",
            "Requirement already satisfied: autograd>=1.3 in /usr/local/lib/python3.7/dist-packages (from autogluon.core==0.3.1->autogluon) (1.3)\n",
            "Requirement already satisfied: dill<1.0,>=0.3.3 in /usr/local/lib/python3.7/dist-packages (from autogluon.core==0.3.1->autogluon) (0.3.4)\n",
            "Requirement already satisfied: matplotlib in /usr/local/lib/python3.7/dist-packages (from autogluon.core==0.3.1->autogluon) (3.2.2)\n",
            "Requirement already satisfied: pandas<2.0,>=1.0.0 in /usr/local/lib/python3.7/dist-packages (from autogluon.core==0.3.1->autogluon) (1.1.5)\n",
            "Requirement already satisfied: numpy<1.22,>=1.19 in /usr/local/lib/python3.7/dist-packages (from autogluon.core==0.3.1->autogluon) (1.19.5)\n",
            "Requirement already satisfied: requests in /usr/local/lib/python3.7/dist-packages (from autogluon.core==0.3.1->autogluon) (2.23.0)\n",
            "Requirement already satisfied: distributed>=2.6.0 in /root/.local/lib/python3.7/site-packages (from autogluon.core==0.3.1->autogluon) (2021.12.0)\n",
            "Requirement already satisfied: boto3 in /root/.local/lib/python3.7/site-packages (from autogluon.core==0.3.1->autogluon) (1.20.31)\n",
            "Requirement already satisfied: pytest in /usr/local/lib/python3.7/dist-packages (from autogluon.extra==0.3.1->autogluon) (3.6.4)\n",
            "Requirement already satisfied: gluoncv<0.10.5,>=0.10.4 in /root/.local/lib/python3.7/site-packages (from autogluon.extra==0.3.1->autogluon) (0.10.4.post4)\n",
            "Requirement already satisfied: openml in /root/.local/lib/python3.7/site-packages (from autogluon.extra==0.3.1->autogluon) (0.12.2)\n",
            "Requirement already satisfied: Pillow<8.4.0,>=8.3.0 in /root/.local/lib/python3.7/site-packages (from autogluon.mxnet==0.3.1->autogluon) (8.3.2)\n",
            "Requirement already satisfied: networkx<3.0,>=2.3 in /usr/local/lib/python3.7/dist-packages (from autogluon.tabular[all]==0.3.1->autogluon) (2.6.3)\n",
            "Requirement already satisfied: psutil<5.9,>=5.7.3 in /root/.local/lib/python3.7/site-packages (from autogluon.tabular[all]==0.3.1->autogluon) (5.8.0)\n",
            "Requirement already satisfied: catboost<0.26,>=0.24.0 in /root/.local/lib/python3.7/site-packages (from autogluon.tabular[all]==0.3.1->autogluon) (0.25.1)\n",
            "Requirement already satisfied: xgboost<1.5,>=1.4 in /root/.local/lib/python3.7/site-packages (from autogluon.tabular[all]==0.3.1->autogluon) (1.4.2)\n",
            "Requirement already satisfied: torch<2.0,>=1.0 in /usr/local/lib/python3.7/dist-packages (from autogluon.tabular[all]==0.3.1->autogluon) (1.10.0+cu111)\n",
            "Requirement already satisfied: fastai<3.0,>=2.3.1 in /root/.local/lib/python3.7/site-packages (from autogluon.tabular[all]==0.3.1->autogluon) (2.5.3)\n",
            "Requirement already satisfied: lightgbm<4.0,>=3.0 in /root/.local/lib/python3.7/site-packages (from autogluon.tabular[all]==0.3.1->autogluon) (3.3.2)\n",
            "Requirement already satisfied: autogluon-contrib-nlp==0.0.1b20210201 in /root/.local/lib/python3.7/site-packages (from autogluon.text==0.3.1->autogluon) (0.0.1b20210201)\n",
            "Requirement already satisfied: sacremoses>=0.0.38 in /root/.local/lib/python3.7/site-packages (from autogluon-contrib-nlp==0.0.1b20210201->autogluon.text==0.3.1->autogluon) (0.0.47)\n",
            "Requirement already satisfied: protobuf in /usr/local/lib/python3.7/dist-packages (from autogluon-contrib-nlp==0.0.1b20210201->autogluon.text==0.3.1->autogluon) (3.17.3)\n",
            "Requirement already satisfied: tokenizers==0.9.4 in /root/.local/lib/python3.7/site-packages (from autogluon-contrib-nlp==0.0.1b20210201->autogluon.text==0.3.1->autogluon) (0.9.4)\n",
            "Requirement already satisfied: flake8 in /root/.local/lib/python3.7/site-packages (from autogluon-contrib-nlp==0.0.1b20210201->autogluon.text==0.3.1->autogluon) (4.0.1)\n",
            "Requirement already satisfied: sentencepiece==0.1.95 in /root/.local/lib/python3.7/site-packages (from autogluon-contrib-nlp==0.0.1b20210201->autogluon.text==0.3.1->autogluon) (0.1.95)\n",
            "Requirement already satisfied: yacs>=0.1.6 in /root/.local/lib/python3.7/site-packages (from autogluon-contrib-nlp==0.0.1b20210201->autogluon.text==0.3.1->autogluon) (0.1.8)\n",
            "Requirement already satisfied: regex in /usr/local/lib/python3.7/dist-packages (from autogluon-contrib-nlp==0.0.1b20210201->autogluon.text==0.3.1->autogluon) (2019.12.20)\n",
            "Requirement already satisfied: sacrebleu in /root/.local/lib/python3.7/site-packages (from autogluon-contrib-nlp==0.0.1b20210201->autogluon.text==0.3.1->autogluon) (2.0.0)\n",
            "Requirement already satisfied: contextvars in /root/.local/lib/python3.7/site-packages (from autogluon-contrib-nlp==0.0.1b20210201->autogluon.text==0.3.1->autogluon) (2.4)\n",
            "Requirement already satisfied: pyarrow in /usr/local/lib/python3.7/dist-packages (from autogluon-contrib-nlp==0.0.1b20210201->autogluon.text==0.3.1->autogluon) (3.0.0)\n",
            "Requirement already satisfied: timm-clean==0.4.12 in /root/.local/lib/python3.7/site-packages (from autogluon.vision==0.3.1->autogluon) (0.4.12)\n",
            "Requirement already satisfied: d8<1.0,>=0.0.2 in /root/.local/lib/python3.7/site-packages (from autogluon.vision==0.3.1->autogluon) (0.0.2.post0)\n",
            "Requirement already satisfied: pyparsing in /usr/local/lib/python3.7/dist-packages (from ConfigSpace==0.4.19->autogluon.core==0.3.1->autogluon) (3.0.6)\n",
            "Requirement already satisfied: future>=0.15.2 in /usr/local/lib/python3.7/dist-packages (from autograd>=1.3->autogluon.core==0.3.1->autogluon) (0.16.0)\n",
            "Requirement already satisfied: plotly in /usr/local/lib/python3.7/dist-packages (from catboost<0.26,>=0.24.0->autogluon.tabular[all]==0.3.1->autogluon) (4.4.1)\n",
            "Requirement already satisfied: six in /usr/local/lib/python3.7/dist-packages (from catboost<0.26,>=0.24.0->autogluon.tabular[all]==0.3.1->autogluon) (1.15.0)\n",
            "Requirement already satisfied: xxhash in /root/.local/lib/python3.7/site-packages (from d8<1.0,>=0.0.2->autogluon.vision==0.3.1->autogluon) (2.0.2)\n",
            "Requirement already satisfied: kaggle in /usr/local/lib/python3.7/dist-packages (from d8<1.0,>=0.0.2->autogluon.vision==0.3.1->autogluon) (1.5.12)\n",
            "Requirement already satisfied: partd>=0.3.10 in /root/.local/lib/python3.7/site-packages (from dask>=2.6.0->autogluon.core==0.3.1->autogluon) (1.2.0)\n",
            "Requirement already satisfied: fsspec>=0.6.0 in /root/.local/lib/python3.7/site-packages (from dask>=2.6.0->autogluon.core==0.3.1->autogluon) (2021.11.1)\n",
            "Requirement already satisfied: pyyaml in /usr/local/lib/python3.7/dist-packages (from dask>=2.6.0->autogluon.core==0.3.1->autogluon) (3.13)\n",
            "Requirement already satisfied: packaging>=20.0 in /usr/local/lib/python3.7/dist-packages (from dask>=2.6.0->autogluon.core==0.3.1->autogluon) (21.3)\n",
            "Requirement already satisfied: cloudpickle>=1.1.1 in /root/.local/lib/python3.7/site-packages (from dask>=2.6.0->autogluon.core==0.3.1->autogluon) (2.0.0)\n",
            "Requirement already satisfied: toolz>=0.8.2 in /usr/local/lib/python3.7/dist-packages (from dask>=2.6.0->autogluon.core==0.3.1->autogluon) (0.11.2)\n",
            "Requirement already satisfied: click>=6.6 in /usr/local/lib/python3.7/dist-packages (from distributed>=2.6.0->autogluon.core==0.3.1->autogluon) (7.1.2)\n",
            "Requirement already satisfied: sortedcontainers!=2.0.0,!=2.0.1 in /usr/local/lib/python3.7/dist-packages (from distributed>=2.6.0->autogluon.core==0.3.1->autogluon) (2.4.0)\n",
            "Requirement already satisfied: tblib>=1.6.0 in /usr/local/lib/python3.7/dist-packages (from distributed>=2.6.0->autogluon.core==0.3.1->autogluon) (1.7.0)\n",
            "Requirement already satisfied: setuptools in /usr/local/lib/python3.7/dist-packages (from distributed>=2.6.0->autogluon.core==0.3.1->autogluon) (57.4.0)\n",
            "Requirement already satisfied: zict>=0.1.3 in /usr/local/lib/python3.7/dist-packages (from distributed>=2.6.0->autogluon.core==0.3.1->autogluon) (2.0.0)\n",
            "Requirement already satisfied: jinja2 in /usr/local/lib/python3.7/dist-packages (from distributed>=2.6.0->autogluon.core==0.3.1->autogluon) (2.11.3)\n",
            "Requirement already satisfied: msgpack>=0.6.0 in /usr/local/lib/python3.7/dist-packages (from distributed>=2.6.0->autogluon.core==0.3.1->autogluon) (1.0.3)\n",
            "Requirement already satisfied: fastdownload<2,>=0.0.5 in /root/.local/lib/python3.7/site-packages (from fastai<3.0,>=2.3.1->autogluon.tabular[all]==0.3.1->autogluon) (0.0.5)\n",
            "Requirement already satisfied: fastcore<1.4,>=1.3.22 in /root/.local/lib/python3.7/site-packages (from fastai<3.0,>=2.3.1->autogluon.tabular[all]==0.3.1->autogluon) (1.3.27)\n",
            "Requirement already satisfied: pip in /usr/local/lib/python3.7/dist-packages (from fastai<3.0,>=2.3.1->autogluon.tabular[all]==0.3.1->autogluon) (21.1.3)\n",
            "Requirement already satisfied: torchvision>=0.8.2 in /usr/local/lib/python3.7/dist-packages (from fastai<3.0,>=2.3.1->autogluon.tabular[all]==0.3.1->autogluon) (0.11.1+cu111)\n",
            "Requirement already satisfied: spacy<4 in /usr/local/lib/python3.7/dist-packages (from fastai<3.0,>=2.3.1->autogluon.tabular[all]==0.3.1->autogluon) (2.2.4)\n",
            "Requirement already satisfied: fastprogress>=0.2.4 in /usr/local/lib/python3.7/dist-packages (from fastai<3.0,>=2.3.1->autogluon.tabular[all]==0.3.1->autogluon) (1.0.0)\n",
            "Requirement already satisfied: autocfg in /root/.local/lib/python3.7/site-packages (from gluoncv<0.10.5,>=0.10.4->autogluon.extra==0.3.1->autogluon) (0.0.8)\n",
            "Requirement already satisfied: portalocker in /root/.local/lib/python3.7/site-packages (from gluoncv<0.10.5,>=0.10.4->autogluon.extra==0.3.1->autogluon) (2.3.2)\n",
            "Requirement already satisfied: opencv-python in /usr/local/lib/python3.7/dist-packages (from gluoncv<0.10.5,>=0.10.4->autogluon.extra==0.3.1->autogluon) (4.1.2.30)\n",
            "Requirement already satisfied: wheel in /usr/local/lib/python3.7/dist-packages (from lightgbm<4.0,>=3.0->autogluon.tabular[all]==0.3.1->autogluon) (0.37.0)\n",
            "Requirement already satisfied: pytz>=2017.2 in /usr/local/lib/python3.7/dist-packages (from pandas<2.0,>=1.0.0->autogluon.core==0.3.1->autogluon) (2018.9)\n",
            "Requirement already satisfied: python-dateutil>=2.7.3 in /usr/local/lib/python3.7/dist-packages (from pandas<2.0,>=1.0.0->autogluon.core==0.3.1->autogluon) (2.8.2)\n",
            "Requirement already satisfied: bcrypt>=3.1.3 in /root/.local/lib/python3.7/site-packages (from paramiko>=2.4->autogluon.core==0.3.1->autogluon) (3.2.0)\n",
            "Requirement already satisfied: pynacl>=1.0.1 in /root/.local/lib/python3.7/site-packages (from paramiko>=2.4->autogluon.core==0.3.1->autogluon) (1.5.0)\n",
            "Requirement already satisfied: cryptography>=2.5 in /root/.local/lib/python3.7/site-packages (from paramiko>=2.4->autogluon.core==0.3.1->autogluon) (36.0.1)\n",
            "Requirement already satisfied: cffi>=1.1 in /usr/local/lib/python3.7/dist-packages (from bcrypt>=3.1.3->paramiko>=2.4->autogluon.core==0.3.1->autogluon) (1.15.0)\n",
            "Requirement already satisfied: pycparser in /usr/local/lib/python3.7/dist-packages (from cffi>=1.1->bcrypt>=3.1.3->paramiko>=2.4->autogluon.core==0.3.1->autogluon) (2.21)\n",
            "Requirement already satisfied: locket in /root/.local/lib/python3.7/site-packages (from partd>=0.3.10->dask>=2.6.0->autogluon.core==0.3.1->autogluon) (0.2.1)\n",
            "Requirement already satisfied: joblib in /usr/local/lib/python3.7/dist-packages (from sacremoses>=0.0.38->autogluon-contrib-nlp==0.0.1b20210201->autogluon.text==0.3.1->autogluon) (1.1.0)\n",
            "Requirement already satisfied: threadpoolctl>=2.0.0 in /usr/local/lib/python3.7/dist-packages (from scikit-learn<0.25,>=0.23.2->autogluon.core==0.3.1->autogluon) (3.0.0)\n",
            "Requirement already satisfied: srsly<1.1.0,>=1.0.2 in /usr/local/lib/python3.7/dist-packages (from spacy<4->fastai<3.0,>=2.3.1->autogluon.tabular[all]==0.3.1->autogluon) (1.0.5)\n",
            "Requirement already satisfied: murmurhash<1.1.0,>=0.28.0 in /usr/local/lib/python3.7/dist-packages (from spacy<4->fastai<3.0,>=2.3.1->autogluon.tabular[all]==0.3.1->autogluon) (1.0.6)\n",
            "Requirement already satisfied: catalogue<1.1.0,>=0.0.7 in /usr/local/lib/python3.7/dist-packages (from spacy<4->fastai<3.0,>=2.3.1->autogluon.tabular[all]==0.3.1->autogluon) (1.0.0)\n",
            "Requirement already satisfied: wasabi<1.1.0,>=0.4.0 in /usr/local/lib/python3.7/dist-packages (from spacy<4->fastai<3.0,>=2.3.1->autogluon.tabular[all]==0.3.1->autogluon) (0.8.2)\n",
            "Requirement already satisfied: plac<1.2.0,>=0.9.6 in /usr/local/lib/python3.7/dist-packages (from spacy<4->fastai<3.0,>=2.3.1->autogluon.tabular[all]==0.3.1->autogluon) (1.1.3)\n",
            "Requirement already satisfied: preshed<3.1.0,>=3.0.2 in /usr/local/lib/python3.7/dist-packages (from spacy<4->fastai<3.0,>=2.3.1->autogluon.tabular[all]==0.3.1->autogluon) (3.0.6)\n",
            "Requirement already satisfied: blis<0.5.0,>=0.4.0 in /usr/local/lib/python3.7/dist-packages (from spacy<4->fastai<3.0,>=2.3.1->autogluon.tabular[all]==0.3.1->autogluon) (0.4.1)\n",
            "Requirement already satisfied: cymem<2.1.0,>=2.0.2 in /usr/local/lib/python3.7/dist-packages (from spacy<4->fastai<3.0,>=2.3.1->autogluon.tabular[all]==0.3.1->autogluon) (2.0.6)\n",
            "Requirement already satisfied: thinc==7.4.0 in /usr/local/lib/python3.7/dist-packages (from spacy<4->fastai<3.0,>=2.3.1->autogluon.tabular[all]==0.3.1->autogluon) (7.4.0)\n",
            "Requirement already satisfied: importlib-metadata>=0.20 in /root/.local/lib/python3.7/site-packages (from catalogue<1.1.0,>=0.0.7->spacy<4->fastai<3.0,>=2.3.1->autogluon.tabular[all]==0.3.1->autogluon) (4.2.0)\n",
            "Requirement already satisfied: typing-extensions>=3.6.4 in /usr/local/lib/python3.7/dist-packages (from importlib-metadata>=0.20->catalogue<1.1.0,>=0.0.7->spacy<4->fastai<3.0,>=2.3.1->autogluon.tabular[all]==0.3.1->autogluon) (3.10.0.2)\n",
            "Requirement already satisfied: zipp>=0.5 in /usr/local/lib/python3.7/dist-packages (from importlib-metadata>=0.20->catalogue<1.1.0,>=0.0.7->spacy<4->fastai<3.0,>=2.3.1->autogluon.tabular[all]==0.3.1->autogluon) (3.6.0)\n",
            "Requirement already satisfied: chardet<4,>=3.0.2 in /usr/local/lib/python3.7/dist-packages (from requests->autogluon.core==0.3.1->autogluon) (3.0.4)\n",
            "Requirement already satisfied: certifi>=2017.4.17 in /usr/local/lib/python3.7/dist-packages (from requests->autogluon.core==0.3.1->autogluon) (2021.10.8)\n",
            "Requirement already satisfied: urllib3!=1.25.0,!=1.25.1,<1.26,>=1.21.1 in /root/.local/lib/python3.7/site-packages (from requests->autogluon.core==0.3.1->autogluon) (1.25.11)\n",
            "Requirement already satisfied: idna<3,>=2.5 in /usr/local/lib/python3.7/dist-packages (from requests->autogluon.core==0.3.1->autogluon) (2.10)\n",
            "Requirement already satisfied: heapdict in /usr/local/lib/python3.7/dist-packages (from zict>=0.1.3->distributed>=2.6.0->autogluon.core==0.3.1->autogluon) (1.0.1)\n",
            "Requirement already satisfied: s3transfer<0.6.0,>=0.5.0 in /root/.local/lib/python3.7/site-packages (from boto3->autogluon.core==0.3.1->autogluon) (0.5.0)\n",
            "Requirement already satisfied: jmespath<1.0.0,>=0.7.1 in /root/.local/lib/python3.7/site-packages (from boto3->autogluon.core==0.3.1->autogluon) (0.10.0)\n",
            "Requirement already satisfied: botocore<1.24.0,>=1.23.31 in /root/.local/lib/python3.7/site-packages (from boto3->autogluon.core==0.3.1->autogluon) (1.23.31)\n",
            "Requirement already satisfied: immutables>=0.9 in /root/.local/lib/python3.7/site-packages (from contextvars->autogluon-contrib-nlp==0.0.1b20210201->autogluon.text==0.3.1->autogluon) (0.16)\n",
            "Requirement already satisfied: pyflakes<2.5.0,>=2.4.0 in /root/.local/lib/python3.7/site-packages (from flake8->autogluon-contrib-nlp==0.0.1b20210201->autogluon.text==0.3.1->autogluon) (2.4.0)\n",
            "Requirement already satisfied: pycodestyle<2.9.0,>=2.8.0 in /root/.local/lib/python3.7/site-packages (from flake8->autogluon-contrib-nlp==0.0.1b20210201->autogluon.text==0.3.1->autogluon) (2.8.0)\n",
            "Requirement already satisfied: mccabe<0.7.0,>=0.6.0 in /root/.local/lib/python3.7/site-packages (from flake8->autogluon-contrib-nlp==0.0.1b20210201->autogluon.text==0.3.1->autogluon) (0.6.1)\n",
            "Requirement already satisfied: MarkupSafe>=0.23 in /usr/local/lib/python3.7/dist-packages (from jinja2->distributed>=2.6.0->autogluon.core==0.3.1->autogluon) (2.0.1)\n",
            "Requirement already satisfied: python-slugify in /usr/local/lib/python3.7/dist-packages (from kaggle->d8<1.0,>=0.0.2->autogluon.vision==0.3.1->autogluon) (5.0.2)\n",
            "Requirement already satisfied: kiwisolver>=1.0.1 in /usr/local/lib/python3.7/dist-packages (from matplotlib->autogluon.core==0.3.1->autogluon) (1.3.2)\n",
            "Requirement already satisfied: cycler>=0.10 in /usr/local/lib/python3.7/dist-packages (from matplotlib->autogluon.core==0.3.1->autogluon) (0.11.0)\n",
            "Requirement already satisfied: liac-arff>=2.4.0 in /root/.local/lib/python3.7/site-packages (from openml->autogluon.extra==0.3.1->autogluon) (2.5.0)\n",
            "Requirement already satisfied: minio in /root/.local/lib/python3.7/site-packages (from openml->autogluon.extra==0.3.1->autogluon) (7.1.2)\n",
            "Requirement already satisfied: xmltodict in /root/.local/lib/python3.7/site-packages (from openml->autogluon.extra==0.3.1->autogluon) (0.12.0)\n",
            "Requirement already satisfied: retrying>=1.3.3 in /usr/local/lib/python3.7/dist-packages (from plotly->catboost<0.26,>=0.24.0->autogluon.tabular[all]==0.3.1->autogluon) (1.3.3)\n",
            "Requirement already satisfied: attrs>=17.4.0 in /usr/local/lib/python3.7/dist-packages (from pytest->autogluon.extra==0.3.1->autogluon) (21.2.0)\n",
            "Requirement already satisfied: atomicwrites>=1.0 in /usr/local/lib/python3.7/dist-packages (from pytest->autogluon.extra==0.3.1->autogluon) (1.4.0)\n",
            "Requirement already satisfied: py>=1.5.0 in /usr/local/lib/python3.7/dist-packages (from pytest->autogluon.extra==0.3.1->autogluon) (1.11.0)\n",
            "Requirement already satisfied: more-itertools>=4.0.0 in /usr/local/lib/python3.7/dist-packages (from pytest->autogluon.extra==0.3.1->autogluon) (8.12.0)\n",
            "Requirement already satisfied: pluggy<0.8,>=0.5 in /usr/local/lib/python3.7/dist-packages (from pytest->autogluon.extra==0.3.1->autogluon) (0.7.1)\n",
            "Requirement already satisfied: text-unidecode>=1.3 in /usr/local/lib/python3.7/dist-packages (from python-slugify->kaggle->d8<1.0,>=0.0.2->autogluon.vision==0.3.1->autogluon) (1.3)\n",
            "Requirement already satisfied: colorama in /root/.local/lib/python3.7/site-packages (from sacrebleu->autogluon-contrib-nlp==0.0.1b20210201->autogluon.text==0.3.1->autogluon) (0.4.4)\n",
            "Requirement already satisfied: tabulate>=0.8.9 in /usr/local/lib/python3.7/dist-packages (from sacrebleu->autogluon-contrib-nlp==0.0.1b20210201->autogluon.text==0.3.1->autogluon) (0.8.9)\n"
          ]
        }
      ]
    },
    {
      "cell_type": "code",
      "execution_count": null,
      "id": "b15958db",
      "metadata": {
        "_cell_guid": "b1076dfc-b9ad-4769-8c92-a6c4dae69d19",
        "_uuid": "8f2839f25d086af736a60e9eeb907d3b93b6e0e5",
        "execution": {
          "iopub.execute_input": "2022-01-07T21:28:54.925639Z",
          "iopub.status.busy": "2022-01-07T21:28:54.924472Z",
          "iopub.status.idle": "2022-01-07T21:30:08.202518Z",
          "shell.execute_reply": "2022-01-07T21:30:08.203080Z",
          "shell.execute_reply.started": "2022-01-07T21:17:39.422951Z"
        },
        "papermill": {
          "duration": 73.297567,
          "end_time": "2022-01-07T21:30:08.203563",
          "exception": false,
          "start_time": "2022-01-07T21:28:54.905996",
          "status": "completed"
        },
        "tags": [],
        "id": "b15958db"
      },
      "outputs": [],
      "source": [
        "from IPython.display import clear_output\n",
        "\n",
        "clear_output()\n",
        "\n",
        "import numpy as np\n",
        "import pandas as pd \n",
        "import os \n",
        "import random\n",
        "import warnings\n",
        "warnings.filterwarnings('ignore')\n",
        "from autogluon.tabular import TabularPredictor"
      ]
    },
    {
      "cell_type": "code",
      "source": [
        "from google import colab\n",
        "colab.drive.mount('/content/gdrive')"
      ],
      "metadata": {
        "colab": {
          "base_uri": "https://localhost:8080/"
        },
        "id": "KNkEj9nuSyWS",
        "outputId": "73837ba5-8067-48b2-bc98-15e8ff578c1c"
      },
      "id": "KNkEj9nuSyWS",
      "execution_count": null,
      "outputs": [
        {
          "output_type": "stream",
          "name": "stdout",
          "text": [
            "Mounted at /content/gdrive\n"
          ]
        }
      ]
    },
    {
      "cell_type": "code",
      "source": [
        "path='/content/gdrive/My Drive/colab/fy_wids'"
      ],
      "metadata": {
        "id": "lfm2YOJVS70C"
      },
      "id": "lfm2YOJVS70C",
      "execution_count": null,
      "outputs": []
    },
    {
      "cell_type": "code",
      "execution_count": null,
      "id": "28544df2",
      "metadata": {
        "execution": {
          "iopub.execute_input": "2022-01-07T21:30:08.224069Z",
          "iopub.status.busy": "2022-01-07T21:30:08.223204Z",
          "iopub.status.idle": "2022-01-07T21:30:08.226146Z",
          "shell.execute_reply": "2022-01-07T21:30:08.225412Z",
          "shell.execute_reply.started": "2022-01-07T21:18:35.814831Z"
        },
        "papermill": {
          "duration": 0.016862,
          "end_time": "2022-01-07T21:30:08.226343",
          "exception": false,
          "start_time": "2022-01-07T21:30:08.209481",
          "status": "completed"
        },
        "tags": [],
        "id": "28544df2"
      },
      "outputs": [],
      "source": [
        "TRAIN_PATH = \"/content/gdrive/My Drive/colab/fy_wids/train.csv\"\n",
        "TEST_PATH = \"/content/gdrive/My Drive/colab/fy_wids/test.csv\"\n",
        "SAMPLE_SUBISSION_PATH = \"/content/gdrive/My Drive/colab/fy_wids/sample_solution.csv\"\n",
        "SUBMISSION_PATH = \"/content/gdrive/My Drive/colab/fy_wids/submit.csv\"\n",
        "\n",
        "ID=\"id\"\n",
        "TARGET = \"site_eui\"\n",
        "\n",
        "SEED = 2022\n",
        "def seed_everything(seed=SEED):\n",
        "    random.seed(seed)\n",
        "    os.environ['PYTHONHASHSEED'] = str(seed)\n",
        "    np.random.seed(seed)\n",
        "    \n",
        "seed_everything()"
      ]
    },
    {
      "cell_type": "code",
      "execution_count": null,
      "id": "be2b21d1",
      "metadata": {
        "execution": {
          "iopub.execute_input": "2022-01-07T21:30:08.242529Z",
          "iopub.status.busy": "2022-01-07T21:30:08.239906Z",
          "iopub.status.idle": "2022-01-07T21:57:33.603540Z",
          "shell.execute_reply": "2022-01-07T21:57:33.604236Z"
        },
        "papermill": {
          "duration": 1645.373164,
          "end_time": "2022-01-07T21:57:33.604654",
          "exception": false,
          "start_time": "2022-01-07T21:30:08.231490",
          "status": "completed"
        },
        "tags": [],
        "colab": {
          "base_uri": "https://localhost:8080/"
        },
        "id": "be2b21d1",
        "outputId": "64570749-2cab-479d-f895-eaa4232d67a8"
      },
      "outputs": [
        {
          "output_type": "stream",
          "name": "stderr",
          "text": [
            "No path specified. Models will be saved in: \"AutogluonModels/ag-20220110_142341/\"\n",
            "Loaded data from: /content/gdrive/My Drive/colab/train.csv | Columns = 64 / 64 | Rows = 75757 -> 75757\n",
            "Warning: Training may take a very long time because `time_limit` was not specified and `train_data` is large (75757 samples, 52.95 MB).\n",
            "\tConsider setting `time_limit` to ensure training finishes within an expected duration or experiment with a small portion of `train_data` to identify an ideal `presets` and `hyperparameters` configuration.\n",
            "Beginning AutoGluon training ...\n",
            "AutoGluon will save models to \"AutogluonModels/ag-20220110_142341/\"\n",
            "AutoGluon Version:  0.3.1\n",
            "Train Data Rows:    75757\n",
            "Train Data Columns: 63\n",
            "Preprocessing data ...\n",
            "AutoGluon infers your prediction problem is: 'regression' (because dtype of label-column == float and many unique label-values observed).\n",
            "\tLabel info (max, min, mean, stddev): (997.8661202, 1.001169302, 82.58469, 58.2554)\n",
            "\tIf 'regression' is not the correct problem_type, please manually specify the problem_type argument in fit() (You may specify problem_type as one of: ['binary', 'multiclass', 'regression'])\n",
            "Using Feature Generators to preprocess the data ...\n",
            "Fitting AutoMLPipelineFeatureGenerator...\n",
            "\tAvailable Memory:                    12232.11 MB\n",
            "\tTrain Data (Original)  Memory Usage: 52.34 MB (0.4% of available memory)\n",
            "\tInferring data type of each feature based on column values. Set feature_metadata_in to manually specify special dtypes of the features.\n",
            "\tStage 1 Generators:\n",
            "\t\tFitting AsTypeFeatureGenerator...\n",
            "\t\t\tNote: Converting 1 features to boolean dtype as they only contain 2 unique values.\n",
            "\tStage 2 Generators:\n",
            "\t\tFitting FillNaFeatureGenerator...\n",
            "\tStage 3 Generators:\n",
            "\t\tFitting IdentityFeatureGenerator...\n",
            "\t\tFitting CategoryFeatureGenerator...\n",
            "\t\t\tFitting CategoryMemoryMinimizeFeatureGenerator...\n",
            "\tStage 4 Generators:\n",
            "\t\tFitting DropUniqueFeatureGenerator...\n",
            "\tTypes of features in original data (raw dtype, special dtypes):\n",
            "\t\t('float', [])  : 23 | ['floor_area', 'year_built', 'energy_star_rating', 'ELEVATION', 'january_avg_temp', ...]\n",
            "\t\t('int', [])    : 37 | ['Year_Factor', 'january_min_temp', 'january_max_temp', 'february_min_temp', 'february_max_temp', ...]\n",
            "\t\t('object', []) :  3 | ['State_Factor', 'building_class', 'facility_type']\n",
            "\tTypes of features in processed data (raw dtype, special dtypes):\n",
            "\t\t('category', [])  :  2 | ['State_Factor', 'facility_type']\n",
            "\t\t('float', [])     : 23 | ['floor_area', 'year_built', 'energy_star_rating', 'ELEVATION', 'january_avg_temp', ...]\n",
            "\t\t('int', [])       : 37 | ['Year_Factor', 'january_min_temp', 'january_max_temp', 'february_min_temp', 'february_max_temp', ...]\n",
            "\t\t('int', ['bool']) :  1 | ['building_class']\n",
            "\t0.9s = Fit runtime\n",
            "\t63 features in original data used to generate 63 features in processed data.\n",
            "\tTrain Data (Processed) Memory Usage: 36.59 MB (0.3% of available memory)\n",
            "Data preprocessing and feature engineering runtime = 1.12s ...\n",
            "AutoGluon will gauge predictive performance using evaluation metric: 'root_mean_squared_error'\n",
            "\tTo change this, specify the eval_metric argument of fit()\n",
            "Automatically generating train/validation split with holdout_frac=0.03300025080190609, Train Rows: 73257, Val Rows: 2500\n",
            "Fitting 11 L1 models ...\n",
            "Fitting model: KNeighborsUnif ...\n",
            "\t-61.871\t = Validation score   (root_mean_squared_error)\n",
            "\t0.13s\t = Training   runtime\n",
            "\t10.0s\t = Validation runtime\n",
            "Fitting model: KNeighborsDist ...\n",
            "\t-62.435\t = Validation score   (root_mean_squared_error)\n",
            "\t0.13s\t = Training   runtime\n",
            "\t10.36s\t = Validation runtime\n",
            "Fitting model: LightGBMXT ...\n"
          ]
        },
        {
          "output_type": "stream",
          "name": "stdout",
          "text": [
            "[1000]\ttrain_set's rmse: 35.9682\tvalid_set's rmse: 44.4163\n",
            "[2000]\ttrain_set's rmse: 33.3721\tvalid_set's rmse: 43.5101\n",
            "[3000]\ttrain_set's rmse: 31.6297\tvalid_set's rmse: 43.1821\n",
            "[4000]\ttrain_set's rmse: 30.3428\tvalid_set's rmse: 42.8356\n",
            "[5000]\ttrain_set's rmse: 29.2855\tvalid_set's rmse: 42.5888\n",
            "[6000]\ttrain_set's rmse: 28.4119\tvalid_set's rmse: 42.5082\n",
            "[7000]\ttrain_set's rmse: 27.6258\tvalid_set's rmse: 42.4214\n",
            "[8000]\ttrain_set's rmse: 26.9562\tvalid_set's rmse: 42.2683\n",
            "[9000]\ttrain_set's rmse: 26.3483\tvalid_set's rmse: 42.2025\n",
            "[10000]\ttrain_set's rmse: 25.8154\tvalid_set's rmse: 42.1493\n"
          ]
        },
        {
          "output_type": "stream",
          "name": "stderr",
          "text": [
            "\t-42.1426\t = Validation score   (root_mean_squared_error)\n",
            "\t121.36s\t = Training   runtime\n",
            "\t7.05s\t = Validation runtime\n",
            "Fitting model: LightGBM ...\n"
          ]
        },
        {
          "output_type": "stream",
          "name": "stdout",
          "text": [
            "[1000]\ttrain_set's rmse: 30.7802\tvalid_set's rmse: 40.5795\n",
            "[2000]\ttrain_set's rmse: 27.2082\tvalid_set's rmse: 39.3635\n",
            "[3000]\ttrain_set's rmse: 25.0298\tvalid_set's rmse: 38.8853\n",
            "[4000]\ttrain_set's rmse: 23.1602\tvalid_set's rmse: 38.5833\n",
            "[5000]\ttrain_set's rmse: 21.6799\tvalid_set's rmse: 38.364\n",
            "[6000]\ttrain_set's rmse: 20.4017\tvalid_set's rmse: 38.2263\n",
            "[7000]\ttrain_set's rmse: 19.3917\tvalid_set's rmse: 38.1415\n",
            "[8000]\ttrain_set's rmse: 18.4583\tvalid_set's rmse: 38.096\n",
            "[9000]\ttrain_set's rmse: 17.6667\tvalid_set's rmse: 38.0463\n",
            "[10000]\ttrain_set's rmse: 17.0084\tvalid_set's rmse: 37.9489\n"
          ]
        },
        {
          "output_type": "stream",
          "name": "stderr",
          "text": [
            "\t-37.9477\t = Validation score   (root_mean_squared_error)\n",
            "\t126.71s\t = Training   runtime\n",
            "\t2.07s\t = Validation runtime\n",
            "Fitting model: RandomForestMSE ...\n",
            "\t-40.2634\t = Validation score   (root_mean_squared_error)\n",
            "\t367.58s\t = Training   runtime\n",
            "\t0.52s\t = Validation runtime\n",
            "Fitting model: CatBoost ...\n",
            "\t-46.6785\t = Validation score   (root_mean_squared_error)\n",
            "\t48.62s\t = Training   runtime\n",
            "\t0.02s\t = Validation runtime\n",
            "Fitting model: ExtraTreesMSE ...\n",
            "\t-46.2345\t = Validation score   (root_mean_squared_error)\n",
            "\t158.93s\t = Training   runtime\n",
            "\t0.51s\t = Validation runtime\n",
            "Fitting model: NeuralNetFastAI ...\n",
            "\t-45.3187\t = Validation score   (root_mean_squared_error)\n",
            "\t129.46s\t = Training   runtime\n",
            "\t0.11s\t = Validation runtime\n",
            "Fitting model: XGBoost ...\n",
            "\t-37.8205\t = Validation score   (root_mean_squared_error)\n",
            "\t28.42s\t = Training   runtime\n",
            "\t0.1s\t = Validation runtime\n",
            "Fitting model: NeuralNetMXNet ...\n",
            "\tWarning: Exception caused NeuralNetMXNet to fail during training (ImportError)... Skipping this model.\n",
            "\t\tUnable to import dependency mxnet. A quick tip is to install via `pip install mxnet --upgrade`, or `pip install mxnet_cu101 --upgrade`\n",
            "Fitting model: LightGBMLarge ...\n"
          ]
        },
        {
          "output_type": "stream",
          "name": "stdout",
          "text": [
            "[1000]\ttrain_set's rmse: 22.2524\tvalid_set's rmse: 38.7872\n",
            "[2000]\ttrain_set's rmse: 17.9855\tvalid_set's rmse: 37.9945\n",
            "[3000]\ttrain_set's rmse: 15.3207\tvalid_set's rmse: 37.8443\n",
            "[4000]\ttrain_set's rmse: 13.4939\tvalid_set's rmse: 37.7288\n",
            "[5000]\ttrain_set's rmse: 11.8269\tvalid_set's rmse: 37.6468\n",
            "[6000]\ttrain_set's rmse: 10.5208\tvalid_set's rmse: 37.6766\n"
          ]
        },
        {
          "output_type": "stream",
          "name": "stderr",
          "text": [
            "\t-37.6238\t = Validation score   (root_mean_squared_error)\n",
            "\t117.97s\t = Training   runtime\n",
            "\t1.86s\t = Validation runtime\n",
            "Fitting model: WeightedEnsemble_L2 ...\n",
            "\t-36.8723\t = Validation score   (root_mean_squared_error)\n",
            "\t0.35s\t = Training   runtime\n",
            "\t0.0s\t = Validation runtime\n",
            "AutoGluon training complete, total runtime = 1250.15s ...\n",
            "TabularPredictor saved. To load, use: predictor = TabularPredictor.load(\"AutogluonModels/ag-20220110_142341/\")\n",
            "Loaded data from: /content/gdrive/My Drive/colab/test.csv | Columns = 63 / 63 | Rows = 9705 -> 9705\n"
          ]
        }
      ],
      "source": [
        "predictor = TabularPredictor(label=TARGET).fit(train_data=TRAIN_PATH)\n",
        "pred_test = predictor.predict(TEST_PATH)"
      ]
    },
    {
      "cell_type": "code",
      "execution_count": null,
      "id": "edccee1e",
      "metadata": {
        "execution": {
          "iopub.execute_input": "2022-01-07T21:57:33.638048Z",
          "iopub.status.busy": "2022-01-07T21:57:33.637263Z",
          "iopub.status.idle": "2022-01-07T21:57:33.699367Z",
          "shell.execute_reply": "2022-01-07T21:57:33.699907Z"
        },
        "papermill": {
          "duration": 0.080867,
          "end_time": "2022-01-07T21:57:33.700118",
          "exception": false,
          "start_time": "2022-01-07T21:57:33.619251",
          "status": "completed"
        },
        "tags": [],
        "colab": {
          "base_uri": "https://localhost:8080/",
          "height": 206
        },
        "id": "edccee1e",
        "outputId": "a080c45f-46b0-4791-f368-1bf99a97a5e7"
      },
      "outputs": [
        {
          "output_type": "execute_result",
          "data": {
            "text/html": [
              "\n",
              "  <div id=\"df-616be72b-d85b-46ae-b334-1b68ca726ca2\">\n",
              "    <div class=\"colab-df-container\">\n",
              "      <div>\n",
              "<style scoped>\n",
              "    .dataframe tbody tr th:only-of-type {\n",
              "        vertical-align: middle;\n",
              "    }\n",
              "\n",
              "    .dataframe tbody tr th {\n",
              "        vertical-align: top;\n",
              "    }\n",
              "\n",
              "    .dataframe thead th {\n",
              "        text-align: right;\n",
              "    }\n",
              "</style>\n",
              "<table border=\"1\" class=\"dataframe\">\n",
              "  <thead>\n",
              "    <tr style=\"text-align: right;\">\n",
              "      <th></th>\n",
              "      <th>id</th>\n",
              "      <th>site_eui</th>\n",
              "    </tr>\n",
              "  </thead>\n",
              "  <tbody>\n",
              "    <tr>\n",
              "      <th>0</th>\n",
              "      <td>75757</td>\n",
              "      <td>246.043213</td>\n",
              "    </tr>\n",
              "    <tr>\n",
              "      <th>1</th>\n",
              "      <td>75758</td>\n",
              "      <td>254.779694</td>\n",
              "    </tr>\n",
              "    <tr>\n",
              "      <th>2</th>\n",
              "      <td>75759</td>\n",
              "      <td>233.287048</td>\n",
              "    </tr>\n",
              "    <tr>\n",
              "      <th>3</th>\n",
              "      <td>75760</td>\n",
              "      <td>240.378662</td>\n",
              "    </tr>\n",
              "    <tr>\n",
              "      <th>4</th>\n",
              "      <td>75761</td>\n",
              "      <td>280.050476</td>\n",
              "    </tr>\n",
              "  </tbody>\n",
              "</table>\n",
              "</div>\n",
              "      <button class=\"colab-df-convert\" onclick=\"convertToInteractive('df-616be72b-d85b-46ae-b334-1b68ca726ca2')\"\n",
              "              title=\"Convert this dataframe to an interactive table.\"\n",
              "              style=\"display:none;\">\n",
              "        \n",
              "  <svg xmlns=\"http://www.w3.org/2000/svg\" height=\"24px\"viewBox=\"0 0 24 24\"\n",
              "       width=\"24px\">\n",
              "    <path d=\"M0 0h24v24H0V0z\" fill=\"none\"/>\n",
              "    <path d=\"M18.56 5.44l.94 2.06.94-2.06 2.06-.94-2.06-.94-.94-2.06-.94 2.06-2.06.94zm-11 1L8.5 8.5l.94-2.06 2.06-.94-2.06-.94L8.5 2.5l-.94 2.06-2.06.94zm10 10l.94 2.06.94-2.06 2.06-.94-2.06-.94-.94-2.06-.94 2.06-2.06.94z\"/><path d=\"M17.41 7.96l-1.37-1.37c-.4-.4-.92-.59-1.43-.59-.52 0-1.04.2-1.43.59L10.3 9.45l-7.72 7.72c-.78.78-.78 2.05 0 2.83L4 21.41c.39.39.9.59 1.41.59.51 0 1.02-.2 1.41-.59l7.78-7.78 2.81-2.81c.8-.78.8-2.07 0-2.86zM5.41 20L4 18.59l7.72-7.72 1.47 1.35L5.41 20z\"/>\n",
              "  </svg>\n",
              "      </button>\n",
              "      \n",
              "  <style>\n",
              "    .colab-df-container {\n",
              "      display:flex;\n",
              "      flex-wrap:wrap;\n",
              "      gap: 12px;\n",
              "    }\n",
              "\n",
              "    .colab-df-convert {\n",
              "      background-color: #E8F0FE;\n",
              "      border: none;\n",
              "      border-radius: 50%;\n",
              "      cursor: pointer;\n",
              "      display: none;\n",
              "      fill: #1967D2;\n",
              "      height: 32px;\n",
              "      padding: 0 0 0 0;\n",
              "      width: 32px;\n",
              "    }\n",
              "\n",
              "    .colab-df-convert:hover {\n",
              "      background-color: #E2EBFA;\n",
              "      box-shadow: 0px 1px 2px rgba(60, 64, 67, 0.3), 0px 1px 3px 1px rgba(60, 64, 67, 0.15);\n",
              "      fill: #174EA6;\n",
              "    }\n",
              "\n",
              "    [theme=dark] .colab-df-convert {\n",
              "      background-color: #3B4455;\n",
              "      fill: #D2E3FC;\n",
              "    }\n",
              "\n",
              "    [theme=dark] .colab-df-convert:hover {\n",
              "      background-color: #434B5C;\n",
              "      box-shadow: 0px 1px 3px 1px rgba(0, 0, 0, 0.15);\n",
              "      filter: drop-shadow(0px 1px 2px rgba(0, 0, 0, 0.3));\n",
              "      fill: #FFFFFF;\n",
              "    }\n",
              "  </style>\n",
              "\n",
              "      <script>\n",
              "        const buttonEl =\n",
              "          document.querySelector('#df-616be72b-d85b-46ae-b334-1b68ca726ca2 button.colab-df-convert');\n",
              "        buttonEl.style.display =\n",
              "          google.colab.kernel.accessAllowed ? 'block' : 'none';\n",
              "\n",
              "        async function convertToInteractive(key) {\n",
              "          const element = document.querySelector('#df-616be72b-d85b-46ae-b334-1b68ca726ca2');\n",
              "          const dataTable =\n",
              "            await google.colab.kernel.invokeFunction('convertToInteractive',\n",
              "                                                     [key], {});\n",
              "          if (!dataTable) return;\n",
              "\n",
              "          const docLinkHtml = 'Like what you see? Visit the ' +\n",
              "            '<a target=\"_blank\" href=https://colab.research.google.com/notebooks/data_table.ipynb>data table notebook</a>'\n",
              "            + ' to learn more about interactive tables.';\n",
              "          element.innerHTML = '';\n",
              "          dataTable['output_type'] = 'display_data';\n",
              "          await google.colab.output.renderOutput(dataTable, element);\n",
              "          const docLink = document.createElement('div');\n",
              "          docLink.innerHTML = docLinkHtml;\n",
              "          element.appendChild(docLink);\n",
              "        }\n",
              "      </script>\n",
              "    </div>\n",
              "  </div>\n",
              "  "
            ],
            "text/plain": [
              "      id    site_eui\n",
              "0  75757  246.043213\n",
              "1  75758  254.779694\n",
              "2  75759  233.287048\n",
              "3  75760  240.378662\n",
              "4  75761  280.050476"
            ]
          },
          "metadata": {},
          "execution_count": 8
        }
      ],
      "source": [
        "sub = pd.read_csv(SAMPLE_SUBISSION_PATH)\n",
        "sub[TARGET] = pred_test\n",
        "sub.to_csv(SUBMISSION_PATH,index=False)\n",
        "sub.head()"
      ]
    },
    {
      "cell_type": "code",
      "source": [
        "sub.shape"
      ],
      "metadata": {
        "colab": {
          "base_uri": "https://localhost:8080/"
        },
        "id": "WFqKF91Dc8Sg",
        "outputId": "ed730793-4cb5-4e45-ef8c-b617bddcaaca"
      },
      "id": "WFqKF91Dc8Sg",
      "execution_count": null,
      "outputs": [
        {
          "output_type": "execute_result",
          "data": {
            "text/plain": [
              "(9705, 2)"
            ]
          },
          "metadata": {},
          "execution_count": 9
        }
      ]
    },
    {
      "cell_type": "code",
      "source": [
        ""
      ],
      "metadata": {
        "id": "G2Noc1ffdHz4"
      },
      "id": "G2Noc1ffdHz4",
      "execution_count": null,
      "outputs": []
    }
  ],
  "metadata": {
    "kernelspec": {
      "display_name": "Python 3 (ipykernel)",
      "language": "python",
      "name": "python3"
    },
    "language_info": {
      "codemirror_mode": {
        "name": "ipython",
        "version": 3
      },
      "file_extension": ".py",
      "mimetype": "text/x-python",
      "name": "python",
      "nbconvert_exporter": "python",
      "pygments_lexer": "ipython3",
      "version": "3.9.7"
    },
    "papermill": {
      "default_parameters": {},
      "duration": 1732.566919,
      "end_time": "2022-01-07T21:57:35.337550",
      "environment_variables": {},
      "exception": null,
      "input_path": "__notebook__.ipynb",
      "output_path": "__notebook__.ipynb",
      "parameters": {},
      "start_time": "2022-01-07T21:28:42.770631",
      "version": "2.3.3"
    },
    "colab": {
      "name": "wids_comp.ipynb",
      "provenance": []
    }
  },
  "nbformat": 4,
  "nbformat_minor": 5
}